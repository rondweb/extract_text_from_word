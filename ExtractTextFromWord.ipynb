{
  "cells": [
    {
      "cell_type": "markdown",
      "metadata": {
        "id": "SdMJbFCxAIzX"
      },
      "source": [
        "Installing the packages"
      ]
    },
    {
      "cell_type": "code",
      "execution_count": null,
      "metadata": {
        "id": "227hskVv-dAo"
      },
      "outputs": [],
      "source": [
        "!apt-get install python-dev libxml2-dev libxslt1-dev antiword unrtf poppler-utils pstotext tesseract-ocr \\\n",
        "flac ffmpeg lame libmad0 libsox-fmt-mp3 sox libjpeg-dev swig\n",
        "!pip install textract"
      ]
    },
    {
      "cell_type": "code",
      "execution_count": 5,
      "metadata": {
        "id": "9HMAA7Xy-h14"
      },
      "outputs": [],
      "source": [
        "import textract\n",
        "import pprint\n",
        "\n",
        "def extract_data_from_file(str_file, str_decode = \"UTF-8\"):\n",
        "  text = textract.process(str_file)\n",
        "  text = text.decode(str_decode)\n",
        "  text = text.replace('\\n', ' ')\n",
        "\n",
        "  return text"
      ]
    },
    {
      "cell_type": "code",
      "execution_count": 10,
      "metadata": {
        "colab": {
          "base_uri": "https://localhost:8080/"
        },
        "id": "SqpetIX2-xpT",
        "outputId": "ec69f5f6-bcef-4378-afde-2e340dcea390"
      },
      "outputs": [
        {
          "name": "stdout",
          "output_type": "stream",
          "text": [
            "('What is Lorem Ipsum?  Lorem Ipsum is simply dummy text of the printing and '\n",
            " \"typesetting industry. Lorem Ipsum has been the industry's standard dummy \"\n",
            " 'text ever since the 1500s, when an unknown printer took a galley of type and '\n",
            " 'scrambled it to make a type specimen book. It has survived not only five '\n",
            " 'centuries, but also the leap into electronic typesetting, remaining '\n",
            " 'essentially unchanged. It was popularised in the 1960s with the release of '\n",
            " 'Letraset sheets containing Lorem Ipsum passages, and more recently with '\n",
            " 'desktop publishing software like Aldus PageMaker including versions of Lorem '\n",
            " 'Ipsum.  Why do we use it?  It is a long established fact that a reader will '\n",
            " 'be distracted by the readable content of a page when looking at its layout. '\n",
            " 'The point of using Lorem Ipsum is that it has a more-or-less normal '\n",
            " \"distribution of letters, as opposed to using 'Content here, content here', \"\n",
            " 'making it look like readable English. Many desktop publishing packages and '\n",
            " 'web page editors now use Lorem Ipsum as their default model text, and a '\n",
            " \"search for 'lorem ipsum' will uncover many web sites still in their infancy. \"\n",
            " 'Various versions have evolved over the years, sometimes by accident, '\n",
            " 'sometimes on purpose (injected humour and the like).     Where does it come '\n",
            " 'from?  Contrary to popular belief, Lorem Ipsum is not simply random text. It '\n",
            " 'has roots in a piece of classical Latin literature from 45 BC, making it '\n",
            " 'over 2000 years old. Richard McClintock, a Latin professor at Hampden-Sydney '\n",
            " 'College in Virginia, looked up one of the more obscure Latin words, '\n",
            " 'consectetur, from a Lorem Ipsum passage, and going through the cites of the '\n",
            " 'word in classical literature, discovered the undoubtable source. Lorem Ipsum '\n",
            " 'comes from sections 1.10.32 and 1.10.33 of \"de Finibus Bonorum et Malorum\" '\n",
            " '(The Extremes of Good and Evil) by Cicero, written in 45 BC. This book is a '\n",
            " 'treatise on the theory of ethics, very popular during the Renaissance. The '\n",
            " 'first line of Lorem Ipsum, \"Lorem ipsum dolor sit amet..\", comes from a line '\n",
            " 'in section 1.10.32.  The standard chunk of Lorem Ipsum used since the 1500s '\n",
            " 'is reproduced below for those interested. Sections 1.10.32 and 1.10.33 from '\n",
            " '\"de Finibus Bonorum et Malorum\" by Cicero are also reproduced in their exact '\n",
            " 'original form, accompanied by English versions from the 1914 translation by '\n",
            " 'H. Rackham.  Where can I get some?  There are many variations of passages of '\n",
            " 'Lorem Ipsum available, but the majority have suffered alteration in some '\n",
            " \"form, by injected humour, or randomised words which don't look even slightly \"\n",
            " 'believable. If you are going to use a passage of Lorem Ipsum, you need to be '\n",
            " \"sure there isn't anything embarrassing hidden in the middle of text. All the \"\n",
            " 'Lorem Ipsum generators on the Internet tend to repeat predefined chunks as '\n",
            " 'necessary, making this the first true generator on the Internet. It uses a '\n",
            " 'dictionary of over 200 Latin words, combined with a handful of model '\n",
            " 'sentence structures, to generate Lorem Ipsum which looks reasonable. The '\n",
            " 'generated Lorem Ipsum is therefore always free from repetition, injected '\n",
            " 'humour, or non-characteristic words etc.')\n"
          ]
        }
      ],
      "source": [
        "text = extract_data_from_file(\"Documento.docx\")\n",
        "pprint.pprint(text)"
      ]
    },
    {
      "cell_type": "code",
      "execution_count": 6,
      "metadata": {
        "id": "snF92hPC_aga"
      },
      "outputs": [],
      "source": []
    },
    {
      "cell_type": "code",
      "execution_count": 7,
      "metadata": {
        "colab": {
          "base_uri": "https://localhost:8080/"
        },
        "id": "SY41uGZK_bIC",
        "outputId": "1e2db870-9532-423b-ecc0-759b5b428453"
      },
      "outputs": [
        {
          "name": "stdout",
          "output_type": "stream",
          "text": [
            "('What is Lorem Ipsum?  Lorem Ipsum is simply dummy text of the printing and '\n",
            " \"typesetting industry. Lorem Ipsum has been the industry's standard dummy \"\n",
            " 'text ever since the 1500s, when an unknown printer took a galley of type and '\n",
            " 'scrambled it to make a type specimen book. It has survived not only five '\n",
            " 'centuries, but also the leap into electronic typesetting, remaining '\n",
            " 'essentially unchanged. It was popularised in the 1960s with the release of '\n",
            " 'Letraset sheets containing Lorem Ipsum passages, and more recently with '\n",
            " 'desktop publishing software like Aldus PageMaker including versions of Lorem '\n",
            " 'Ipsum.  Why do we use it?  It is a long established fact that a reader will '\n",
            " 'be distracted by the readable content of a page when looking at its layout. '\n",
            " 'The point of using Lorem Ipsum is that it has a more-or-less normal '\n",
            " \"distribution of letters, as opposed to using 'Content here, content here', \"\n",
            " 'making it look like readable English. Many desktop publishing packages and '\n",
            " 'web page editors now use Lorem Ipsum as their default model text, and a '\n",
            " \"search for 'lorem ipsum' will uncover many web sites still in their infancy. \"\n",
            " 'Various versions have evolved over the years, sometimes by accident, '\n",
            " 'sometimes on purpose (injected humour and the like).     Where does it come '\n",
            " 'from?  Contrary to popular belief, Lorem Ipsum is not simply random text. It '\n",
            " 'has roots in a piece of classical Latin literature from 45 BC, making it '\n",
            " 'over 2000 years old. Richard McClintock, a Latin professor at Hampden-Sydney '\n",
            " 'College in Virginia, looked up one of the more obscure Latin words, '\n",
            " 'consectetur, from a Lorem Ipsum passage, and going through the cites of the '\n",
            " 'word in classical literature, discovered the undoubtable source. Lorem Ipsum '\n",
            " 'comes from sections 1.10.32 and 1.10.33 of \"de Finibus Bonorum et Malorum\" '\n",
            " '(The Extremes of Good and Evil) by Cicero, written in 45 BC. This book is a '\n",
            " 'treatise on the theory of ethics, very popular during the Renaissance. The '\n",
            " 'first line of Lorem Ipsum, \"Lorem ipsum dolor sit amet..\", comes from a line '\n",
            " 'in section 1.10.32.  The standard chunk of Lorem Ipsum used since the 1500s '\n",
            " 'is reproduced below for those interested. Sections 1.10.32 and 1.10.33 from '\n",
            " '\"de Finibus Bonorum et Malorum\" by Cicero are also reproduced in their exact '\n",
            " 'original form, accompanied by English versions from the 1914 translation by '\n",
            " 'H. Rackham.  Where can I get some?  There are many variations of passages of '\n",
            " 'Lorem Ipsum available, but the majority have suffered alteration in some '\n",
            " \"form, by injected humour, or randomised words which don't look even slightly \"\n",
            " 'believable. If you are going to use a passage of Lorem Ipsum, you need to be '\n",
            " \"sure there isn't anything embarrassing hidden in the middle of text. All the \"\n",
            " 'Lorem Ipsum generators on the Internet tend to repeat predefined chunks as '\n",
            " 'necessary, making this the first true generator on the Internet. It uses a '\n",
            " 'dictionary of over 200 Latin words, combined with a handful of model '\n",
            " 'sentence structures, to generate Lorem Ipsum which looks reasonable. The '\n",
            " 'generated Lorem Ipsum is therefore always free from repetition, injected '\n",
            " 'humour, or non-characteristic words etc.')\n"
          ]
        }
      ],
      "source": []
    },
    {
      "cell_type": "code",
      "execution_count": 9,
      "metadata": {
        "colab": {
          "base_uri": "https://localhost:8080/"
        },
        "id": "vjj2N3pK_2tU",
        "outputId": "801153dd-5203-4690-cd26-96b69f8f7043"
      },
      "outputs": [
        {
          "name": "stdout",
          "output_type": "stream",
          "text": [
            "('What is Lorem Ipsum?  Lorem Ipsum is simply dummy text of the printing and '\n",
            " \"typesetting industry. Lorem Ipsum has been the industry's standard dummy \"\n",
            " 'text ever since the 1500s, when an unknown printer took a galley of type and '\n",
            " 'scrambled it to make a type specimen book. It has survived not only five '\n",
            " 'centuries, but also the leap into electronic typesetting, remaining '\n",
            " 'essentially unchanged. It was popularised in the 1960s with the release of '\n",
            " 'Letraset sheets containing Lorem Ipsum passages, and more recently with '\n",
            " 'desktop publishing software like Aldus PageMaker including versions of Lorem '\n",
            " 'Ipsum.  Why do we use it?  It is a long established fact that a reader will '\n",
            " 'be distracted by the readable content of a page when looking at its layout. '\n",
            " 'The point of using Lorem Ipsum is that it has a more-or-less normal '\n",
            " \"distribution of letters, as opposed to using 'Content here, content here', \"\n",
            " 'making it look like readable English. Many desktop publishing packages and '\n",
            " 'web page editors now use Lorem Ipsum as their default model text, and a '\n",
            " \"search for 'lorem ipsum' will uncover many web sites still in their infancy. \"\n",
            " 'Various versions have evolved over the years, sometimes by accident, '\n",
            " 'sometimes on purpose (injected humour and the like).     Where does it come '\n",
            " 'from?  Contrary to popular belief, Lorem Ipsum is not simply random text. It '\n",
            " 'has roots in a piece of classical Latin literature from 45 BC, making it '\n",
            " 'over 2000 years old. Richard McClintock, a Latin professor at Hampden-Sydney '\n",
            " 'College in Virginia, looked up one of the more obscure Latin words, '\n",
            " 'consectetur, from a Lorem Ipsum passage, and going through the cites of the '\n",
            " 'word in classical literature, discovered the undoubtable source. Lorem Ipsum '\n",
            " 'comes from sections 1.10.32 and 1.10.33 of \"de Finibus Bonorum et Malorum\" '\n",
            " '(The Extremes of Good and Evil) by Cicero, written in 45 BC. This book is a '\n",
            " 'treatise on the theory of ethics, very popular during the Renaissance. The '\n",
            " 'first line of Lorem Ipsum, \"Lorem ipsum dolor sit amet..\", comes from a line '\n",
            " 'in section 1.10.32.  The standard chunk of Lorem Ipsum used since the 1500s '\n",
            " 'is reproduced below for those interested. Sections 1.10.32 and 1.10.33 from '\n",
            " '\"de Finibus Bonorum et Malorum\" by Cicero are also reproduced in their exact '\n",
            " 'original form, accompanied by English versions from the 1914 translation by '\n",
            " 'H. Rackham.  Where can I get some?  There are many variations of passages of '\n",
            " 'Lorem Ipsum available, but the majority have suffered alteration in some '\n",
            " \"form, by injected humour, or randomised words which don't look even slightly \"\n",
            " 'believable. If you are going to use a passage of Lorem Ipsum, you need to be '\n",
            " \"sure there isn't anything embarrassing hidden in the middle of text. All the \"\n",
            " 'Lorem Ipsum generators on the Internet tend to repeat predefined chunks as '\n",
            " 'necessary, making this the first true generator on the Internet. It uses a '\n",
            " 'dictionary of over 200 Latin words, combined with a handful of model '\n",
            " 'sentence structures, to generate Lorem Ipsum which looks reasonable. The '\n",
            " 'generated Lorem Ipsum is therefore always free from repetition, injected '\n",
            " 'humour, or non-characteristic words etc.')\n"
          ]
        }
      ],
      "source": []
    },
    {
      "cell_type": "code",
      "execution_count": null,
      "metadata": {
        "id": "eEwV56Or_39O"
      },
      "outputs": [],
      "source": []
    }
  ],
  "metadata": {
    "colab": {
      "name": "ExtractTextFromWord.ipynb",
      "provenance": []
    },
    "kernelspec": {
      "display_name": "Python 3",
      "name": "python3"
    },
    "language_info": {
      "name": "python",
      "version": "3.7.13"
    }
  },
  "nbformat": 4,
  "nbformat_minor": 0
}
